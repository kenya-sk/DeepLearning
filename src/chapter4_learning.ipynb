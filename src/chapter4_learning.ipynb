{
 "cells": [
  {
   "cell_type": "markdown",
   "metadata": {},
   "source": [
    "# ニューラルネットワークの学習"
   ]
  },
  {
   "cell_type": "code",
   "execution_count": 10,
   "metadata": {
    "collapsed": false
   },
   "outputs": [],
   "source": [
    "%matplotlib inline\n",
    "import sys, os\n",
    "sys.path.append(\"../deep-learning-from-scratch/\")\n",
    "import matplotlib.pyplot as plt\n",
    "import numpy as np\n",
    "from common.functions import *\n",
    "from common.gradient import numerical_gradient\n",
    "from dataset.mnist import load_mnist"
   ]
  },
  {
   "cell_type": "markdown",
   "metadata": {},
   "source": [
    "# 1層のニューラルネットの実装"
   ]
  },
  {
   "cell_type": "code",
   "execution_count": 11,
   "metadata": {
    "collapsed": true
   },
   "outputs": [],
   "source": [
    "class simpleNet:\n",
    "    def __init__(self):\n",
    "        self.W = np.random.randn(2,3)\n",
    "        \n",
    "    def predict(self, x):\n",
    "        return np.dot(x, self.W)\n",
    "    \n",
    "    def loss(self, x, t):\n",
    "        z = self.predict(x)\n",
    "        y = softmax(z)\n",
    "        loss = cross_entropy_error(y, t)\n",
    "        \n",
    "        return loss"
   ]
  },
  {
   "cell_type": "code",
   "execution_count": 12,
   "metadata": {
    "collapsed": false
   },
   "outputs": [
    {
     "name": "stdout",
     "output_type": "stream",
     "text": [
      "W = [[ 0.24819631  0.90953413  0.34194568]\n",
      " [-0.75787727 -1.90600955  0.98926578]]\n",
      "\n",
      "p = [-0.53317176 -1.16968811  1.09550661]\n",
      "\n",
      "label = 2\n",
      "\n",
      "output loss function = 0.26236311880727664\n",
      "\n",
      "dW = [[ 0.09054873  0.04791228 -0.13846101]\n",
      " [ 0.1358231   0.07186842 -0.20769151]]\n",
      "\n"
     ]
    }
   ],
   "source": [
    "#test simpleNet\n",
    "net = simpleNet()\n",
    "print(\"W = {}\\n\".format(net.W))\n",
    "\n",
    "x = np.array([0.6, 0.9])\n",
    "p = net.predict(x)\n",
    "print(\"p = {}\\n\".format(p))\n",
    "print(\"label = {}\\n\".format(np.argmax(p)))\n",
    "\n",
    "t = np.array([0, 0, 1])\n",
    "print(\"output loss function = {}\\n\".format(net.loss(x, t)))\n",
    "\n",
    "dW = numerical_gradient(lambda w: net.loss(x, t) , net.W)\n",
    "print(\"dW = {}\\n\".format(dW))"
   ]
  },
  {
   "cell_type": "markdown",
   "metadata": {},
   "source": [
    "# 2層のユーラルネットワークの実装"
   ]
  },
  {
   "cell_type": "code",
   "execution_count": 13,
   "metadata": {
    "collapsed": true
   },
   "outputs": [],
   "source": [
    "class TwoLayerNet:\n",
    "    def __init__(self, input_size, hidden_size, output_size, weight_init_std=0.01):\n",
    "        self.params = {}\n",
    "        self.params['W1'] = weight_init_std*np.random.randn(input_size, hidden_size)\n",
    "        self.params['b1'] = np.zeros(hidden_size)\n",
    "        self.params['W2'] = weight_init_std*np.random.randn(hidden_size, output_size)\n",
    "        self.params['b2'] = np.zeros(output_size)\n",
    "        \n",
    "    def predict(self, x):\n",
    "        W1, W2 = self.params['W1'], self.params['W2']\n",
    "        b1, b2 = self.params['b1'], self.params['b2']\n",
    "        \n",
    "        a1 = np.dot(x, W1) + b1\n",
    "        z1 = sigmoid(a1)\n",
    "        a2 = np.dot(z1, W2) + b2\n",
    "        y = softmax(a2)\n",
    "        return y\n",
    "    \n",
    "    def loss(self, x, t):\n",
    "        y = self.predict(x)\n",
    "        return cross_entropy_error(y, t)\n",
    "    \n",
    "    def accuracy(self, x, t):\n",
    "        y = self.predict(x)\n",
    "        y = np.argmax(y, axis=1)\n",
    "        t = np.argmax(t, axis=1)\n",
    "        accuracy = np.sum(y == t) / float(x.shape[0])\n",
    "        \n",
    "        return accuracy\n",
    "    \n",
    "    def numerical_gradient(self, x, t):\n",
    "        loss_W = lambda W: self.loss(x, t)\n",
    "        \n",
    "        grads = {}\n",
    "        grads['W1'] = numerical_gradient(loss_W, self.params['W1'])\n",
    "        grads['b1'] = numerical_gradient(loss_W, self.params['b1'])\n",
    "        grads['W2'] = numerical_gradient(loss_W, self.params['W2'])\n",
    "        grads['b2'] = numerical_gradient(loss_W, self.params['b2'])\n",
    "        return grads\n",
    "    \n",
    "    def gradient(self, x, t):\n",
    "        W1, W2 = self.params['W1'], self.params['W2']\n",
    "        b1, b2 = self.params['b1'], self.params['b2']\n",
    "        grads = {}\n",
    "        batch_num = x.shape[0]\n",
    "        \n",
    "        #forward\n",
    "        a1 = np.dot(x, W1) + b1\n",
    "        z1 = sigmoid(a1)\n",
    "        a2 = np.dot(z1, W2) + b2\n",
    "        y = softmax(a2)\n",
    "        \n",
    "        #backward\n",
    "        dy = (y - t) / batch_num\n",
    "        grads['W2'] = np.dot(z1.T, dy)\n",
    "        grads['b2'] = np.sum(dy, axis=0)\n",
    "        \n",
    "        da1 = np.dot(dy, W2.T)\n",
    "        dz1 = sigmoid_grad(a1) * da1\n",
    "        grads['W1'] = np.dot(x.T, dz1)\n",
    "        grads['b1'] = np.sum(dz1, axis=0)\n",
    "        return grads\n",
    "    "
   ]
  },
  {
   "cell_type": "code",
   "execution_count": 14,
   "metadata": {
    "collapsed": false
   },
   "outputs": [
    {
     "name": "stdout",
     "output_type": "stream",
     "text": [
      "shape of W1 = (784, 100)\n",
      "shape of b1 = (100,)\n",
      "shape of W2 = (100, 10)\n",
      "shape of b2 = (10,)\n",
      "shape of W1 gradient = (784, 100)\n",
      "shape of b1 gradient = (100,)\n",
      "shape of W2 gradient = (100, 10)\n",
      "shape of b2 gradient = (10,)\n"
     ]
    }
   ],
   "source": [
    "#test TwoLayerNet\n",
    "net = TwoLayerNet(input_size=784, hidden_size=100, output_size=10)\n",
    "print(\"shape of W1 = {}\".format(net.params['W1'].shape))\n",
    "print(\"shape of b1 = {}\".format(net.params['b1'].shape))\n",
    "print(\"shape of W2 = {}\".format(net.params['W2'].shape))\n",
    "print(\"shape of b2 = {}\".format(net.params['b2'].shape))\n",
    "\n",
    "x = np.random.rand(100, 784) #ダミーの入力ラベル \n",
    "t = np.random.rand(100, 10) #ダミーの正解ラベル\n",
    "grads = net.gradient(x, t)\n",
    "print(\"shape of W1 gradient = {}\".format(grads['W1'].shape))\n",
    "print(\"shape of b1 gradient = {}\".format(grads['b1'].shape))\n",
    "print(\"shape of W2 gradient = {}\".format(grads['W2'].shape))\n",
    "print(\"shape of b2 gradient = {}\".format(grads['b2'].shape))"
   ]
  },
  {
   "cell_type": "markdown",
   "metadata": {},
   "source": [
    "# 数値微分を用いた、2層のニューラルネットワークでの学習"
   ]
  },
  {
   "cell_type": "code",
   "execution_count": 15,
   "metadata": {
    "collapsed": false
   },
   "outputs": [
    {
     "name": "stdout",
     "output_type": "stream",
     "text": [
      "tarin loss = [2.2573820599340855, 2.248374895587554, 2.2522579016447768, 2.2412484478873433, 2.2483849742559143, 2.2022757143124307, 2.2455283610736192, 2.2832688446607095, 2.2756024628165683, 2.2306576801403222]\n",
      "train accuracy = [0.098716666666666661, 0.11236666666666667, 0.11236666666666667, 0.11236666666666667, 0.11236666666666667, 0.098716666666666661, 0.11236666666666667, 0.11236666666666667, 0.11236666666666667, 0.11236666666666667]\n",
      "test accuracy = [0.098000000000000004, 0.1135, 0.1135, 0.1135, 0.1135, 0.098000000000000004, 0.1135, 0.1135, 0.1135, 0.1135]\n"
     ]
    }
   ],
   "source": [
    "(x_train, t_train), (x_test, t_test) = load_mnist(normalize=True, one_hot_label=True)\n",
    "train_loss_list = []\n",
    "train_acc_list = []\n",
    "test_acc_list = []\n",
    "\n",
    "#ハイパーパラメータ \n",
    "iters_num = 10000\n",
    "train_size = x.shape[0]\n",
    "batch_size = 100\n",
    "learning_rate = 0.1\n",
    "\n",
    "#1エポックあたりの繰り返し数 \n",
    "iter_per_epoch = max(train_size / batch_size, 1)\n",
    "\n",
    "network = TwoLayerNet(input_size=784, hidden_size=100, output_size=10)\n",
    "\n",
    "for i in range(iters_num):\n",
    "    #ミニバッチの取得 \n",
    "    batch_mask = np.random.choice(train_size, batch_size)\n",
    "    x_batch = x_train[batch_mask]\n",
    "    t_batch = t_train[batch_mask]\n",
    "    \n",
    "    #勾配の計算 \n",
    "    grads = network.gradient(x_batch, t_batch)\n",
    "\n",
    "    #パラメータの更新 \n",
    "    for key in ('W1', 'b1', 'W2', 'b2'):\n",
    "        network.params[key] -= learning_rate * grads[key]\n",
    "        \n",
    "    #学習経過の記録 \n",
    "    loss = network.loss(x_batch, t_batch)\n",
    "    train_loss_list.append(loss)\n",
    "    \n",
    "    #1エポックごとに認識精度を計算\n",
    "    if i % iter_per_epoch == 0:\n",
    "        train_acc = network.accuracy(x_train, t_train)\n",
    "        test_acc = network.accuracy(x_test, t_test)\n",
    "        train_acc_list.append(train_acc)\n",
    "        test_acc_list.append(test_acc)\n",
    "    \n",
    "print(\"tarin loss = {}\".format(train_loss_list))\n",
    "print(\"train accuracy = {}\".format(train_acc_list))\n",
    "print(\"test accuracy = {}\".format(test_acc_list))"
   ]
  }
 ],
 "metadata": {
  "anaconda-cloud": {},
  "kernelspec": {
   "display_name": "Python [conda root]",
   "language": "python",
   "name": "conda-root-py"
  },
  "language_info": {
   "codemirror_mode": {
    "name": "ipython",
    "version": 3
   },
   "file_extension": ".py",
   "mimetype": "text/x-python",
   "name": "python",
   "nbconvert_exporter": "python",
   "pygments_lexer": "ipython3",
   "version": "3.5.2"
  }
 },
 "nbformat": 4,
 "nbformat_minor": 1
}
