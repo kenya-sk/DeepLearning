{
 "cells": [
  {
   "cell_type": "markdown",
   "metadata": {},
   "source": [
    "# Deep MNIST"
   ]
  },
  {
   "cell_type": "markdown",
   "metadata": {},
   "source": [
    "Improve the accuracy of MNIST"
   ]
  },
  {
   "cell_type": "code",
   "execution_count": 1,
   "metadata": {
    "collapsed": false
   },
   "outputs": [],
   "source": [
    "%matplotlib inline\n",
    "\n",
    "import numpy as np\n",
    "import matplotlib.pyplot as plt\n",
    "import tensorflow as tf"
   ]
  },
  {
   "cell_type": "markdown",
   "metadata": {},
   "source": [
    "# Set up"
   ]
  },
  {
   "cell_type": "code",
   "execution_count": 2,
   "metadata": {
    "collapsed": false
   },
   "outputs": [
    {
     "name": "stdout",
     "output_type": "stream",
     "text": [
      "Extracting MNIST_data/train-images-idx3-ubyte.gz\n",
      "Extracting MNIST_data/train-labels-idx1-ubyte.gz\n",
      "Extracting MNIST_data/t10k-images-idx3-ubyte.gz\n",
      "Extracting MNIST_data/t10k-labels-idx1-ubyte.gz\n"
     ]
    }
   ],
   "source": [
    "# Load MNIST Data\n",
    "from tensorflow.examples.tutorials.mnist import input_data\n",
    "mnist = input_data.read_data_sets(\"MNIST_data\", one_hot=True)"
   ]
  },
  {
   "cell_type": "code",
   "execution_count": 3,
   "metadata": {
    "collapsed": true
   },
   "outputs": [],
   "source": [
    "#start TensorFolw InteractiveSession\n",
    "sess = tf.InteractiveSession()"
   ]
  },
  {
   "cell_type": "markdown",
   "metadata": {},
   "source": [
    "# Build a Softmax Regression Model"
   ]
  },
  {
   "cell_type": "markdown",
   "metadata": {},
   "source": [
    "In this section, single linear layer "
   ]
  },
  {
   "cell_type": "code",
   "execution_count": 4,
   "metadata": {
    "collapsed": true
   },
   "outputs": [],
   "source": [
    "#Placeholders\n",
    "x = tf.placeholder(tf.float32, shape=[None, 784])\n",
    "y_ = tf.placeholder(tf.float32, shape=[None, 10])"
   ]
  },
  {
   "cell_type": "code",
   "execution_count": 5,
   "metadata": {
    "collapsed": true
   },
   "outputs": [],
   "source": [
    "# Variables\n",
    "W = tf.Variable(tf.zeros([784, 10]))\n",
    "b = tf.Variable(tf.zeros([10]))\n",
    "sess.run(tf.global_variables_initializer())"
   ]
  },
  {
   "cell_type": "code",
   "execution_count": 6,
   "metadata": {
    "collapsed": false
   },
   "outputs": [],
   "source": [
    "# Predicted Class and Loss Function\n",
    "y = tf.matmul(x, W) + b\n",
    "cross_entropy = tf.reduce_mean(tf.nn.softmax_cross_entropy_with_logits(labels=y_, logits=y))"
   ]
  },
  {
   "cell_type": "markdown",
   "metadata": {},
   "source": [
    "# Train the Model"
   ]
  },
  {
   "cell_type": "code",
   "execution_count": 7,
   "metadata": {
    "collapsed": true
   },
   "outputs": [],
   "source": [
    "# steepest gradient descent\n",
    "train_step = tf.train.GradientDescentOptimizer(0.5).minimize(cross_entropy)\n",
    "\n",
    "for _ in range(1000):\n",
    "    batch = mnist.train.next_batch(100)\n",
    "    train_step.run(feed_dict={x: batch[0], y_: batch[1]})"
   ]
  },
  {
   "cell_type": "markdown",
   "metadata": {},
   "source": [
    "# Evaluate the Model"
   ]
  },
  {
   "cell_type": "code",
   "execution_count": 8,
   "metadata": {
    "collapsed": false
   },
   "outputs": [
    {
     "name": "stdout",
     "output_type": "stream",
     "text": [
      "Accuracy of single layer model : 0.9165999889373779\n"
     ]
    }
   ],
   "source": [
    "correct_prediction = tf.equal(tf.argmax(y, 1), tf.argmax(y_, 1))\n",
    "accuracy = tf.reduce_mean(tf.cast(correct_prediction, tf.float32))\n",
    "result = accuracy.eval(feed_dict={x: mnist.test.images, y_: mnist.test.labels})\n",
    "print( \"Accuracy of single layer model : {}\".format(result))"
   ]
  },
  {
   "cell_type": "markdown",
   "metadata": {},
   "source": [
    "# Build a Multilayer Convolutional Network"
   ]
  },
  {
   "cell_type": "code",
   "execution_count": 9,
   "metadata": {
    "collapsed": true
   },
   "outputs": [],
   "source": [
    "# Weight Initialization\n",
    "def weight_variable(shape):\n",
    "    initial = tf.truncated_normal(shape, stddev=0.1)\n",
    "    return tf.Variable(initial)\n",
    "\n",
    "def bias_variable(shape):\n",
    "    initial = tf.constant(0.1, shape=shape)\n",
    "    return tf.Variable(initial)"
   ]
  },
  {
   "cell_type": "code",
   "execution_count": 10,
   "metadata": {
    "collapsed": true
   },
   "outputs": [],
   "source": [
    "# Convolution and Pooling\n",
    "def conv2d(x, W):\n",
    "    return tf.nn.conv2d(x, W, strides=[1, 1, 1, 1], padding=\"SAME\")\n",
    "\n",
    "def max_pool_2x2(x):\n",
    "    return tf.nn.max_pool(x, ksize=[1, 2, 2, 1], strides=[1, 2, 2, 1], padding=\"SAME\")"
   ]
  },
  {
   "cell_type": "code",
   "execution_count": 11,
   "metadata": {
    "collapsed": true
   },
   "outputs": [],
   "source": [
    "# First Convolutional Layer\n",
    "W_conv1 = weight_variable([5, 5, 1, 32])\n",
    "b_conv1 = bias_variable([32])\n",
    "\n",
    "#reshape x to a 4d tensor\n",
    "x_image = tf.reshape(x, [-1, 28, 28, 1])\n",
    "\n",
    "h_conv1 = tf.nn.relu(conv2d(x_image, W_conv1) + b_conv1)\n",
    "h_pool1 = max_pool_2x2(h_conv1) #reduce the image size to 14x14"
   ]
  },
  {
   "cell_type": "code",
   "execution_count": 12,
   "metadata": {
    "collapsed": true
   },
   "outputs": [],
   "source": [
    "# Second Convolutional Layer\n",
    "W_conv2 = weight_variable([5, 5, 32, 64])\n",
    "b_conv2 = bias_variable([64])\n",
    "\n",
    "h_conv2 = tf.nn.relu(conv2d(h_pool1, W_conv2) + b_conv2)\n",
    "h_pool2 = max_pool_2x2(h_conv2) #reduce the image size to 7x7"
   ]
  },
  {
   "cell_type": "code",
   "execution_count": 13,
   "metadata": {
    "collapsed": true
   },
   "outputs": [],
   "source": [
    "# Densely Connected Layer\n",
    "W_fc1 = weight_variable([7 * 7 * 64, 1024])\n",
    "b_fc1 = bias_variable([1024])\n",
    "\n",
    "h_pool2_flat = tf.reshape(h_pool2, [-1, 7*7*64])\n",
    "h_fc1 = tf.nn.relu(tf.matmul(h_pool2_flat, W_fc1) + b_fc1)"
   ]
  },
  {
   "cell_type": "code",
   "execution_count": 14,
   "metadata": {
    "collapsed": true
   },
   "outputs": [],
   "source": [
    "# Dropout\n",
    "keep_prob = tf.placeholder(tf.float32)\n",
    "h_fc1_drop = tf.nn.dropout(h_fc1, keep_prob)"
   ]
  },
  {
   "cell_type": "code",
   "execution_count": 15,
   "metadata": {
    "collapsed": false
   },
   "outputs": [],
   "source": [
    "#Readout Layer\n",
    "W_fc2 = weight_variable([1024, 10])\n",
    "b_fc2 = bias_variable([10])\n",
    "\n",
    "y_conv = tf.matmul(h_fc1_drop, W_fc2) + b_fc2"
   ]
  },
  {
   "cell_type": "code",
   "execution_count": 16,
   "metadata": {
    "collapsed": false
   },
   "outputs": [
    {
     "name": "stdout",
     "output_type": "stream",
     "text": [
      "step 0, training accuracy 0.1599999964237213\n",
      "step 100, training accuracy 0.8399999737739563\n",
      "step 200, training accuracy 0.8199999928474426\n",
      "step 300, training accuracy 0.8999999761581421\n",
      "step 400, training accuracy 0.8999999761581421\n",
      "step 500, training accuracy 0.8399999737739563\n",
      "step 600, training accuracy 0.9800000190734863\n",
      "step 700, training accuracy 0.9800000190734863\n",
      "step 800, training accuracy 0.9399999976158142\n",
      "step 900, training accuracy 0.9599999785423279\n",
      "step 1000, training accuracy 0.9200000166893005\n",
      "step 1100, training accuracy 0.9800000190734863\n",
      "step 1200, training accuracy 0.9599999785423279\n",
      "step 1300, training accuracy 0.9399999976158142\n",
      "step 1400, training accuracy 0.9599999785423279\n",
      "step 1500, training accuracy 0.9399999976158142\n",
      "step 1600, training accuracy 0.9399999976158142\n",
      "step 1700, training accuracy 0.9599999785423279\n",
      "step 1800, training accuracy 0.9800000190734863\n",
      "step 1900, training accuracy 0.9800000190734863\n",
      "step 2000, training accuracy 0.9399999976158142\n",
      "step 2100, training accuracy 0.9599999785423279\n",
      "step 2200, training accuracy 0.9599999785423279\n",
      "step 2300, training accuracy 1.0\n",
      "step 2400, training accuracy 1.0\n",
      "step 2500, training accuracy 0.9599999785423279\n",
      "step 2600, training accuracy 1.0\n",
      "step 2700, training accuracy 0.9800000190734863\n",
      "step 2800, training accuracy 1.0\n",
      "step 2900, training accuracy 0.9399999976158142\n",
      "step 3000, training accuracy 1.0\n",
      "step 3100, training accuracy 1.0\n",
      "step 3200, training accuracy 0.9800000190734863\n",
      "step 3300, training accuracy 1.0\n",
      "step 3400, training accuracy 0.9800000190734863\n",
      "step 3500, training accuracy 1.0\n",
      "step 3600, training accuracy 0.9800000190734863\n",
      "step 3700, training accuracy 1.0\n",
      "step 3800, training accuracy 0.9800000190734863\n",
      "step 3900, training accuracy 0.9599999785423279\n",
      "step 4000, training accuracy 1.0\n",
      "step 4100, training accuracy 0.9599999785423279\n",
      "step 4200, training accuracy 0.9800000190734863\n",
      "step 4300, training accuracy 0.9800000190734863\n",
      "step 4400, training accuracy 1.0\n",
      "step 4500, training accuracy 1.0\n",
      "step 4600, training accuracy 0.9800000190734863\n",
      "step 4700, training accuracy 0.9800000190734863\n",
      "step 4800, training accuracy 1.0\n",
      "step 4900, training accuracy 0.9800000190734863\n",
      "step 5000, training accuracy 1.0\n",
      "step 5100, training accuracy 1.0\n",
      "step 5200, training accuracy 1.0\n",
      "step 5300, training accuracy 0.9800000190734863\n",
      "step 5400, training accuracy 1.0\n",
      "step 5500, training accuracy 0.9800000190734863\n",
      "step 5600, training accuracy 0.9800000190734863\n",
      "step 5700, training accuracy 1.0\n",
      "step 5800, training accuracy 1.0\n",
      "step 5900, training accuracy 1.0\n",
      "step 6000, training accuracy 1.0\n",
      "step 6100, training accuracy 0.9800000190734863\n",
      "step 6200, training accuracy 1.0\n",
      "step 6300, training accuracy 1.0\n",
      "step 6400, training accuracy 0.9800000190734863\n",
      "step 6500, training accuracy 0.9599999785423279\n",
      "step 6600, training accuracy 0.9800000190734863\n",
      "step 6700, training accuracy 1.0\n",
      "step 6800, training accuracy 1.0\n",
      "step 6900, training accuracy 0.9800000190734863\n",
      "step 7000, training accuracy 1.0\n",
      "step 7100, training accuracy 1.0\n",
      "step 7200, training accuracy 0.9800000190734863\n",
      "step 7300, training accuracy 1.0\n",
      "step 7400, training accuracy 0.9800000190734863\n",
      "step 7500, training accuracy 1.0\n",
      "step 7600, training accuracy 0.9800000190734863\n",
      "step 7700, training accuracy 1.0\n",
      "step 7800, training accuracy 1.0\n",
      "step 7900, training accuracy 0.9800000190734863\n",
      "step 8000, training accuracy 1.0\n",
      "step 8100, training accuracy 1.0\n",
      "step 8200, training accuracy 1.0\n",
      "step 8300, training accuracy 1.0\n",
      "step 8400, training accuracy 1.0\n",
      "step 8500, training accuracy 1.0\n",
      "step 8600, training accuracy 1.0\n",
      "step 8700, training accuracy 0.9800000190734863\n",
      "step 8800, training accuracy 0.9800000190734863\n",
      "step 8900, training accuracy 1.0\n",
      "step 9000, training accuracy 1.0\n",
      "step 9100, training accuracy 1.0\n",
      "step 9200, training accuracy 1.0\n",
      "step 9300, training accuracy 1.0\n",
      "step 9400, training accuracy 1.0\n",
      "step 9500, training accuracy 1.0\n",
      "step 9600, training accuracy 1.0\n",
      "step 9700, training accuracy 1.0\n",
      "step 9800, training accuracy 1.0\n",
      "step 9900, training accuracy 1.0\n",
      "step 10000, training accuracy 0.9800000190734863\n",
      "step 10100, training accuracy 1.0\n",
      "step 10200, training accuracy 1.0\n",
      "step 10300, training accuracy 1.0\n",
      "step 10400, training accuracy 1.0\n",
      "step 10500, training accuracy 1.0\n",
      "step 10600, training accuracy 1.0\n",
      "step 10700, training accuracy 1.0\n",
      "step 10800, training accuracy 1.0\n",
      "step 10900, training accuracy 1.0\n",
      "step 11000, training accuracy 1.0\n",
      "step 11100, training accuracy 0.9800000190734863\n",
      "step 11200, training accuracy 1.0\n",
      "step 11300, training accuracy 1.0\n",
      "step 11400, training accuracy 1.0\n",
      "step 11500, training accuracy 1.0\n",
      "step 11600, training accuracy 1.0\n",
      "step 11700, training accuracy 1.0\n",
      "step 11800, training accuracy 1.0\n",
      "step 11900, training accuracy 1.0\n",
      "step 12000, training accuracy 1.0\n",
      "step 12100, training accuracy 1.0\n",
      "step 12200, training accuracy 0.9800000190734863\n",
      "step 12300, training accuracy 1.0\n",
      "step 12400, training accuracy 1.0\n",
      "step 12500, training accuracy 1.0\n",
      "step 12600, training accuracy 1.0\n",
      "step 12700, training accuracy 1.0\n",
      "step 12800, training accuracy 1.0\n",
      "step 12900, training accuracy 1.0\n",
      "step 13000, training accuracy 1.0\n",
      "step 13100, training accuracy 1.0\n",
      "step 13200, training accuracy 1.0\n",
      "step 13300, training accuracy 1.0\n",
      "step 13400, training accuracy 0.9800000190734863\n",
      "step 13500, training accuracy 1.0\n",
      "step 13600, training accuracy 1.0\n",
      "step 13700, training accuracy 1.0\n",
      "step 13800, training accuracy 1.0\n",
      "step 13900, training accuracy 1.0\n",
      "step 14000, training accuracy 1.0\n",
      "step 14100, training accuracy 1.0\n",
      "step 14200, training accuracy 1.0\n",
      "step 14300, training accuracy 1.0\n",
      "step 14400, training accuracy 1.0\n",
      "step 14500, training accuracy 1.0\n",
      "step 14600, training accuracy 1.0\n",
      "step 14700, training accuracy 1.0\n",
      "step 14800, training accuracy 1.0\n",
      "step 14900, training accuracy 1.0\n",
      "step 15000, training accuracy 1.0\n",
      "step 15100, training accuracy 1.0\n",
      "step 15200, training accuracy 1.0\n",
      "step 15300, training accuracy 1.0\n",
      "step 15400, training accuracy 1.0\n",
      "step 15500, training accuracy 1.0\n",
      "step 15600, training accuracy 0.9800000190734863\n",
      "step 15700, training accuracy 1.0\n",
      "step 15800, training accuracy 1.0\n",
      "step 15900, training accuracy 1.0\n",
      "step 16000, training accuracy 1.0\n",
      "step 16100, training accuracy 1.0\n",
      "step 16200, training accuracy 1.0\n",
      "step 16300, training accuracy 1.0\n",
      "step 16400, training accuracy 1.0\n",
      "step 16500, training accuracy 1.0\n",
      "step 16600, training accuracy 0.9800000190734863\n",
      "step 16700, training accuracy 1.0\n",
      "step 16800, training accuracy 1.0\n",
      "step 16900, training accuracy 1.0\n",
      "step 17000, training accuracy 1.0\n",
      "step 17100, training accuracy 1.0\n",
      "step 17200, training accuracy 1.0\n",
      "step 17300, training accuracy 1.0\n",
      "step 17400, training accuracy 1.0\n",
      "step 17500, training accuracy 1.0\n",
      "step 17600, training accuracy 1.0\n",
      "step 17700, training accuracy 1.0\n",
      "step 17800, training accuracy 1.0\n",
      "step 17900, training accuracy 1.0\n",
      "step 18000, training accuracy 1.0\n",
      "step 18100, training accuracy 1.0\n",
      "step 18200, training accuracy 1.0\n",
      "step 18300, training accuracy 1.0\n",
      "step 18400, training accuracy 1.0\n",
      "step 18500, training accuracy 1.0\n",
      "step 18600, training accuracy 1.0\n",
      "step 18700, training accuracy 1.0\n",
      "step 18800, training accuracy 1.0\n",
      "step 18900, training accuracy 1.0\n",
      "step 19000, training accuracy 1.0\n",
      "step 19100, training accuracy 1.0\n",
      "step 19200, training accuracy 1.0\n",
      "step 19300, training accuracy 1.0\n",
      "step 19400, training accuracy 1.0\n",
      "step 19500, training accuracy 1.0\n",
      "step 19600, training accuracy 1.0\n",
      "step 19700, training accuracy 1.0\n",
      "step 19800, training accuracy 1.0\n",
      "step 19900, training accuracy 1.0\n",
      "test accuracy 0.9923999905586243\n"
     ]
    }
   ],
   "source": [
    "# Train and Evaluate the Model\n",
    "cross_entropy = tf.reduce_mean(tf.nn.softmax_cross_entropy_with_logits(labels=y_, logits=y_conv))\n",
    "train_step = tf.train.AdamOptimizer(1e-4).minimize(cross_entropy)\n",
    "correct_prediction = tf.equal(tf.argmax(y_conv, 1), tf.argmax(y_, 1))\n",
    "accuracy = tf.reduce_mean(tf.cast(correct_prediction, tf.float32))\n",
    "epochAccuracy_lst = []\n",
    "\n",
    "with tf.Session() as sess:\n",
    "    sess.run(tf.global_variables_initializer())\n",
    "    for i in range(20000):\n",
    "        batch = mnist.train.next_batch(50)\n",
    "        if i % 100 == 0:\n",
    "            train_accuracy = accuracy.eval(feed_dict={x: batch[0], y_: batch[1], keep_prob: 1.0})\n",
    "            epochAccuracy_lst.append(train_accuracy)\n",
    "            print(\"step {0}, training accuracy {1}\".format(i, train_accuracy))\n",
    "        train_step.run(feed_dict={x: batch[0], y_: batch[1], keep_prob: 0.5})\n",
    "        \n",
    "    print(\"test accuracy {}\".format(accuracy.eval(feed_dict={x: mnist.test.images, y_: mnist.test.labels, keep_prob: 1.0})))"
   ]
  },
  {
   "cell_type": "code",
   "execution_count": 17,
   "metadata": {
    "collapsed": false
   },
   "outputs": [
    {
     "data": {
      "text/plain": [
       "<matplotlib.text.Text at 0x11c695c18>"
      ]
     },
     "execution_count": 17,
     "metadata": {},
     "output_type": "execute_result"
    },
    {
     "data": {
      "image/png": "[encoded data removed]",
      "text/plain": [
       "<matplotlib.figure.Figure at 0x125981240>"
      ]
     },
     "metadata": {},
     "output_type": "display_data"
    }
   ],
   "source": [
    "xAxis = []\n",
    "for i in range(0, 20000, 100):\n",
    "    xAxis.append(i)\n",
    "plt.plot(xAxis, epochAccuracy_lst)\n",
    "plt.xlabel(\"epoch\")\n",
    "plt.ylabel(\"accuracy\")"
   ]
  },
  {
   "cell_type": "code",
   "execution_count": null,
   "metadata": {
    "collapsed": true
   },
   "outputs": [],
   "source": []
  }
 ],
 "metadata": {
  "anaconda-cloud": {},
  "kernelspec": {
   "display_name": "Python [conda root]",
   "language": "python",
   "name": "conda-root-py"
  },
  "language_info": {
   "codemirror_mode": {
    "name": "ipython",
    "version": 3
   },
   "file_extension": ".py",
   "mimetype": "text/x-python",
   "name": "python",
   "nbconvert_exporter": "python",
   "pygments_lexer": "ipython3",
   "version": "3.5.2"
  }
 },
 "nbformat": 4,
 "nbformat_minor": 1
}
